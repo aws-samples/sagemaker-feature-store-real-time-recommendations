{
 "cells": [
  {
   "cell_type": "markdown",
   "metadata": {},
   "source": [
    "# Notebook 4: Realtime Recommendations\n",
    "\n",
    "Specify \"Python 3\" Kernel  and \"Data Science\" Image. Set the instance type as ml.t3.medium (default) for this notebook."
   ]
  },
  {
   "cell_type": "markdown",
   "metadata": {},
   "source": [
    "### Background\n",
    "\n",
    "In this notebook, we will get personalized product recommendations using the Collaborative Filtering model and the Ranking model we deployed in notebook 2.\n",
    "\n",
    "We'll do this by:\n",
    "\n",
    "1. Using the deployed Collborative Filtering model which will take the payload that we cached in notebook 2 (to address the cold start problem) as input and generate candidate products based on the user-item interaction.\n",
    "2. Feeding these candidate products into our Ranking model along with click stream data from our `click stream` Feature Group. You'll see that the real-time click stream data will directly influence the ranking of the candidate products at the time of inference.\n",
    "\n",
    "<img src=\"./img/inference-arch.png\" alt=\"Inference arch\" style=\"width: 800px;\"/>"
   ]
  },
  {
   "cell_type": "markdown",
   "metadata": {},
   "source": [
    "### Package updates"
   ]
  },
  {
   "cell_type": "code",
   "execution_count": 40,
   "metadata": {
    "tags": []
   },
   "outputs": [
    {
     "name": "stdout",
     "output_type": "stream",
     "text": [
      "Requirement already satisfied: pandas in /opt/conda/lib/python3.10/site-packages (2.2.2)\n",
      "Requirement already satisfied: numpy>=1.22.4 in /opt/conda/lib/python3.10/site-packages (from pandas) (1.26.4)\n",
      "Requirement already satisfied: python-dateutil>=2.8.2 in /opt/conda/lib/python3.10/site-packages (from pandas) (2.9.0)\n",
      "Requirement already satisfied: pytz>=2020.1 in /opt/conda/lib/python3.10/site-packages (from pandas) (2024.1)\n",
      "Requirement already satisfied: tzdata>=2022.7 in /opt/conda/lib/python3.10/site-packages (from pandas) (2024.1)\n",
      "Requirement already satisfied: six>=1.5 in /opt/conda/lib/python3.10/site-packages (from python-dateutil>=2.8.2->pandas) (1.16.0)\n",
      "\u001b[33mWARNING: Running pip as the 'root' user can result in broken permissions and conflicting behaviour with the system package manager. It is recommended to use a virtual environment instead: https://pip.pypa.io/warnings/venv\u001b[0m\u001b[33m\n",
      "\u001b[0m"
     ]
    }
   ],
   "source": [
    "!pip install --upgrade pandas"
   ]
  },
  {
   "cell_type": "markdown",
   "metadata": {},
   "source": [
    "### Imports"
   ]
  },
  {
   "cell_type": "code",
   "execution_count": 41,
   "metadata": {
    "tags": []
   },
   "outputs": [],
   "source": [
    "import sagemaker\n",
    "from sagemaker import get_execution_role\n",
    "import boto3\n",
    "import json\n",
    "import numpy as np\n",
    "import pandas as pd\n",
    "from utils import *\n",
    "from sagemaker.serializers import CSVSerializer\n",
    "from sagemaker.deserializers import JSONDeserializer\n",
    "import random\n",
    "from parameter_store import ParameterStore\n",
    "import time"
   ]
  },
  {
   "cell_type": "markdown",
   "metadata": {},
   "source": [
    "### Session variables"
   ]
  },
  {
   "cell_type": "code",
   "execution_count": 42,
   "metadata": {
    "tags": []
   },
   "outputs": [],
   "source": [
    "role = sagemaker.get_execution_role()\n",
    "sagemaker_session = sagemaker.Session()\n",
    "default_bucket = sagemaker_session.default_bucket()\n",
    "region = sagemaker_session.boto_region_name\n",
    "featurestore_runtime = boto3.client(service_name='sagemaker-featurestore-runtime', region_name=region)\n",
    "ps = ParameterStore(verbose=False)\n",
    "ps.set_namespace('feature-store-workshop')"
   ]
  },
  {
   "cell_type": "code",
   "execution_count": 43,
   "metadata": {
    "tags": []
   },
   "outputs": [],
   "source": [
    "query_results= 'sagemaker-recsys-featurestore-workshop'\n",
    "prefix = 'recsys-feature-store'"
   ]
  },
  {
   "cell_type": "markdown",
   "metadata": {},
   "source": [
    "Load variables from previous notebooks."
   ]
  },
  {
   "cell_type": "code",
   "execution_count": 45,
   "metadata": {
    "tags": []
   },
   "outputs": [],
   "source": [
    "parameters = ps.read()\n",
    "customers_feature_group_name = parameters['customers_feature_group_name']\n",
    "products_feature_group_name = parameters['products_feature_group_name']\n",
    "orders_feature_group_name = parameters['orders_feature_group_name']\n",
    "click_stream_historical_feature_group_name = parameters['click_stream_historical_feature_group_name']\n",
    "click_stream_feature_group_name = parameters['click_stream_feature_group_name']\n",
    "\n",
    "customers_table = parameters['customers_table']\n",
    "products_table = parameters['products_table']\n",
    "orders_table = parameters['orders_table']\n",
    "click_stream_historical_table = parameters['click_stream_historical_table']\n",
    "click_stream_table = parameters['click_stream_table']\n",
    "\n",
    "train_data_location = parameters['train_data_location']\n",
    "test_data_location = parameters['test_data_location']\n",
    "\n",
    "cf_model_endpoint_name = parameters['cf_model_endpoint_name']\n",
    "ranking_model_endpoint_name = parameters['ranking_model_endpoint_name']\n",
    "\n",
    "customer_id = parameters['inference_customer_id']\n",
    "\n",
    "%store -r"
   ]
  },
  {
   "cell_type": "markdown",
   "metadata": {},
   "source": [
    "### Get unranked recommended products from the Collaborative Filtering model"
   ]
  },
  {
   "cell_type": "markdown",
   "metadata": {},
   "source": [
    "Create a `Predictor` object from our collaborative filtering model endpoint (which we deployed in notebook 2) so that we can use it to make predictions."
   ]
  },
  {
   "cell_type": "code",
   "execution_count": 46,
   "metadata": {
    "tags": []
   },
   "outputs": [],
   "source": [
    "# Make sure model has finished deploying\n",
    "existing_endpoints = sagemaker_session.sagemaker_client.list_endpoints(NameContains=cf_model_endpoint_name, MaxResults=30)[\"Endpoints\"]\n",
    "while not existing_endpoints:\n",
    "    time.sleep(60)\n",
    "    existing_endpoints = sagemaker_session.sagemaker_client.list_endpoints(NameContains=cf_model_endpoint_name, MaxResults=30)[\"Endpoints\"]\n",
    "\n",
    "cf_model_predictor = sagemaker.predictor.Predictor(endpoint_name=cf_model_endpoint_name, \n",
    "                                                   sagemaker_session=sagemaker_session,\n",
    "                                                   serializer=FMSerializer(),\n",
    "                                                   deserializer=JSONDeserializer())"
   ]
  },
  {
   "cell_type": "code",
   "execution_count": 47,
   "metadata": {
    "tags": []
   },
   "outputs": [],
   "source": [
    "# Pass in our cached data as input to the Collaborative Filtering model\n",
    "predictions = cf_model_predictor.predict(cf_inference_payload)['predictions']\n",
    "\n",
    "# Add those predictions to the input DataFrame\n",
    "predictions = [prediction[\"score\"] for prediction in predictions]\n",
    "cf_inference_df['predictions'] = predictions\n",
    "\n",
    "# Sort by predictions and take top 10\n",
    "cf_inference_df = cf_inference_df.sort_values(by='predictions', ascending=False).head(10).reset_index()"
   ]
  },
  {
   "cell_type": "markdown",
   "metadata": {},
   "source": [
    "Let's take a look at the output from our collaborative filtering model. These unranked products are recommended to the customer based on their purchase history."
   ]
  },
  {
   "cell_type": "code",
   "execution_count": 48,
   "metadata": {
    "tags": []
   },
   "outputs": [
    {
     "data": {
      "text/html": [
       "<div>\n",
       "<style scoped>\n",
       "    .dataframe tbody tr th:only-of-type {\n",
       "        vertical-align: middle;\n",
       "    }\n",
       "\n",
       "    .dataframe tbody tr th {\n",
       "        vertical-align: top;\n",
       "    }\n",
       "\n",
       "    .dataframe thead th {\n",
       "        text-align: right;\n",
       "    }\n",
       "</style>\n",
       "<table border=\"1\" class=\"dataframe\">\n",
       "  <thead>\n",
       "    <tr style=\"text-align: right;\">\n",
       "      <th></th>\n",
       "      <th>index</th>\n",
       "      <th>customer_id</th>\n",
       "      <th>product_id</th>\n",
       "      <th>state</th>\n",
       "      <th>age</th>\n",
       "      <th>is_married</th>\n",
       "      <th>product_name</th>\n",
       "      <th>predictions</th>\n",
       "    </tr>\n",
       "  </thead>\n",
       "  <tbody>\n",
       "    <tr>\n",
       "      <th>0</th>\n",
       "      <td>6</td>\n",
       "      <td>C3571</td>\n",
       "      <td>P6176</td>\n",
       "      <td>maine</td>\n",
       "      <td>35</td>\n",
       "      <td>0</td>\n",
       "      <td>pretzel \\\"shells\\\"</td>\n",
       "      <td>1.723941</td>\n",
       "    </tr>\n",
       "    <tr>\n",
       "      <th>1</th>\n",
       "      <td>8</td>\n",
       "      <td>C3571</td>\n",
       "      <td>P11086</td>\n",
       "      <td>maine</td>\n",
       "      <td>35</td>\n",
       "      <td>0</td>\n",
       "      <td>almonds mini nut-thins cheddar cheese</td>\n",
       "      <td>1.670082</td>\n",
       "    </tr>\n",
       "    <tr>\n",
       "      <th>2</th>\n",
       "      <td>2</td>\n",
       "      <td>C3571</td>\n",
       "      <td>P16823</td>\n",
       "      <td>maine</td>\n",
       "      <td>35</td>\n",
       "      <td>0</td>\n",
       "      <td>pirouette chocolate fudge creme filled wafers</td>\n",
       "      <td>1.640127</td>\n",
       "    </tr>\n",
       "    <tr>\n",
       "      <th>3</th>\n",
       "      <td>12</td>\n",
       "      <td>C3571</td>\n",
       "      <td>P15430</td>\n",
       "      <td>maine</td>\n",
       "      <td>35</td>\n",
       "      <td>0</td>\n",
       "      <td>organic pork chop seasoning</td>\n",
       "      <td>1.639393</td>\n",
       "    </tr>\n",
       "    <tr>\n",
       "      <th>4</th>\n",
       "      <td>5</td>\n",
       "      <td>C3571</td>\n",
       "      <td>P6247</td>\n",
       "      <td>maine</td>\n",
       "      <td>35</td>\n",
       "      <td>0</td>\n",
       "      <td>fruit punch roarin' waters</td>\n",
       "      <td>1.587156</td>\n",
       "    </tr>\n",
       "    <tr>\n",
       "      <th>5</th>\n",
       "      <td>7</td>\n",
       "      <td>C3571</td>\n",
       "      <td>P14539</td>\n",
       "      <td>maine</td>\n",
       "      <td>35</td>\n",
       "      <td>0</td>\n",
       "      <td>chocolate, organic, unsweetened, 100% cacao</td>\n",
       "      <td>1.505779</td>\n",
       "    </tr>\n",
       "    <tr>\n",
       "      <th>6</th>\n",
       "      <td>1</td>\n",
       "      <td>C3571</td>\n",
       "      <td>P10682</td>\n",
       "      <td>maine</td>\n",
       "      <td>35</td>\n",
       "      <td>0</td>\n",
       "      <td>mini cakes birthday cake</td>\n",
       "      <td>1.501803</td>\n",
       "    </tr>\n",
       "    <tr>\n",
       "      <th>7</th>\n",
       "      <td>4</td>\n",
       "      <td>C3571</td>\n",
       "      <td>P4152</td>\n",
       "      <td>maine</td>\n",
       "      <td>35</td>\n",
       "      <td>0</td>\n",
       "      <td>white cheddar bunnies</td>\n",
       "      <td>1.464058</td>\n",
       "    </tr>\n",
       "    <tr>\n",
       "      <th>8</th>\n",
       "      <td>13</td>\n",
       "      <td>C3571</td>\n",
       "      <td>P7822</td>\n",
       "      <td>maine</td>\n",
       "      <td>35</td>\n",
       "      <td>0</td>\n",
       "      <td>degreaser</td>\n",
       "      <td>1.454165</td>\n",
       "    </tr>\n",
       "    <tr>\n",
       "      <th>9</th>\n",
       "      <td>3</td>\n",
       "      <td>C3571</td>\n",
       "      <td>P5429</td>\n",
       "      <td>maine</td>\n",
       "      <td>35</td>\n",
       "      <td>0</td>\n",
       "      <td>organic sweet potato puree</td>\n",
       "      <td>1.414727</td>\n",
       "    </tr>\n",
       "  </tbody>\n",
       "</table>\n",
       "</div>"
      ],
      "text/plain": [
       "   index customer_id product_id  state age is_married  \\\n",
       "0      6       C3571      P6176  maine  35          0   \n",
       "1      8       C3571     P11086  maine  35          0   \n",
       "2      2       C3571     P16823  maine  35          0   \n",
       "3     12       C3571     P15430  maine  35          0   \n",
       "4      5       C3571      P6247  maine  35          0   \n",
       "5      7       C3571     P14539  maine  35          0   \n",
       "6      1       C3571     P10682  maine  35          0   \n",
       "7      4       C3571      P4152  maine  35          0   \n",
       "8     13       C3571      P7822  maine  35          0   \n",
       "9      3       C3571      P5429  maine  35          0   \n",
       "\n",
       "                                    product_name  predictions  \n",
       "0                             pretzel \\\"shells\\\"     1.723941  \n",
       "1          almonds mini nut-thins cheddar cheese     1.670082  \n",
       "2  pirouette chocolate fudge creme filled wafers     1.640127  \n",
       "3                    organic pork chop seasoning     1.639393  \n",
       "4                     fruit punch roarin' waters     1.587156  \n",
       "5    chocolate, organic, unsweetened, 100% cacao     1.505779  \n",
       "6                       mini cakes birthday cake     1.501803  \n",
       "7                          white cheddar bunnies     1.464058  \n",
       "8                                      degreaser     1.454165  \n",
       "9                     organic sweet potato puree     1.414727  "
      ]
     },
     "execution_count": 48,
     "metadata": {},
     "output_type": "execute_result"
    }
   ],
   "source": [
    "cf_inference_df"
   ]
  },
  {
   "cell_type": "markdown",
   "metadata": {},
   "source": [
    "These products aren't personalized which is what we'll use the ranking model for. The ranking model will take into account the customer's current behavior on the website which will influence the ranking of the recommended products."
   ]
  },
  {
   "cell_type": "markdown",
   "metadata": {},
   "source": [
    "### Rank the recommended products using the Ranking model"
   ]
  },
  {
   "cell_type": "markdown",
   "metadata": {},
   "source": [
    "Create a `Predictor` object from our ranking model endpoint (which we deployed in notebook 2) so that we can use it to make predictions."
   ]
  },
  {
   "cell_type": "code",
   "execution_count": 49,
   "metadata": {
    "tags": []
   },
   "outputs": [],
   "source": [
    "# Make sure model has finished deploying\n",
    "existing_endpoints = sagemaker_session.sagemaker_client.list_endpoints(NameContains=ranking_model_endpoint_name, MaxResults=30)[\"Endpoints\"]\n",
    "while not existing_endpoints:\n",
    "    time.sleep(60)\n",
    "    existing_endpoints = sagemaker_session.sagemaker_client.list_endpoints(NameContains=ranking_model_endpoint_name, MaxResults=30)[\"Endpoints\"]\n",
    "\n",
    "ranking_model_predictor = sagemaker.predictor.Predictor(endpoint_name=ranking_model_endpoint_name, \n",
    "                                                        sagemaker_session=sagemaker_session,\n",
    "                                                        serializer = CSVSerializer())"
   ]
  },
  {
   "cell_type": "markdown",
   "metadata": {},
   "source": [
    "In order to construct the input for the ranking model, we need to one-hot encode product categories as we did in training. Ideally, these one-hot encoded products would be cached somewhere (perhaps in SageMaker Feature Store or another AWS service) but we're keeping it simple for now."
   ]
  },
  {
   "cell_type": "code",
   "execution_count": 50,
   "metadata": {
    "tags": []
   },
   "outputs": [],
   "source": [
    "query = f'''\n",
    "select product_category\n",
    "from \"{products_table}\"\n",
    "order by product_category\n",
    "'''\n",
    "product_categories_df, query = query_offline_store(products_feature_group_name, query,\n",
    "                                                   sagemaker_session)\n",
    "one_hot_cat_features = product_categories_df.product_category.unique()\n",
    "\n",
    "df_one_hot_cat_features = pd.DataFrame(one_hot_cat_features)\n",
    "df_one_hot_cat_features.columns = ['product_category']\n",
    "\n",
    "df_one_hot_cat_features = pd.concat([df_one_hot_cat_features, pd.get_dummies(df_one_hot_cat_features['product_category'], prefix='cat')],axis=1)\n",
    "\n",
    "# Convert dummy variables to integers\n",
    "for col in df_one_hot_cat_features.columns[1:]:\n",
    "    df_one_hot_cat_features[col] = df_one_hot_cat_features[col].astype(int)"
   ]
  },
  {
   "cell_type": "markdown",
   "metadata": {},
   "source": [
    "Now we create a function to take the output from the collaborative filtering model and join it with the one-hot encoded product categories _**AND**_ the real-time click stream data from our `click stream` Feature Group, as this data will influence the ranking of recommended products. You can imagine the ranking inputs like so:\n",
    "\n",
    "<img src=\"./img/vector-input-for-ranking.png\" alt=\"Ranking input\" style=\"width: 600px;\"/>\n",
    "\n",
    "\n",
    "We'll use this function in the next section."
   ]
  },
  {
   "cell_type": "code",
   "execution_count": 51,
   "metadata": {
    "tags": []
   },
   "outputs": [],
   "source": [
    "def get_ranking_model_input_data(df, df_one_hot_cat_features):\n",
    "    product_category_list = []\n",
    "    product_health_index_list = []\n",
    "    \n",
    "    customer_id = df.iloc[0]['customer_id']\n",
    "    # Get customer features from customers_feature_group_name\n",
    "    customer_record = featurestore_runtime.get_record(FeatureGroupName=customers_feature_group_name,\n",
    "                                                      RecordIdentifierValueAsString=customer_id,\n",
    "                                                      FeatureNames=['customer_health_index'])\n",
    "    print(customer_record)\n",
    "    customer_health_index = customer_record['Record'][0]['ValueAsString']\n",
    "    \n",
    "    # Get product features (instead of looping, you can optionally use\n",
    "    # the `batch_get_record` Feature Store API)\n",
    "    for index, row_tuple in df.iterrows():\n",
    "        \n",
    "        product_id = row_tuple['product_id']\n",
    "        \n",
    "        # Get product features from products_feature_group_name\n",
    "        product_record = featurestore_runtime.get_record(FeatureGroupName=products_feature_group_name,\n",
    "                                                         RecordIdentifierValueAsString=product_id,\n",
    "                                                         FeatureNames=['product_category',\n",
    "                                                                       'product_health_index'])\n",
    "        \n",
    "        product_category = product_record['Record'][0]['ValueAsString']\n",
    "        product_health_index = product_record['Record'][1]['ValueAsString']\n",
    "        \n",
    "        product_category_list.append(product_category)\n",
    "        product_health_index_list.append(product_health_index)\n",
    "\n",
    "        \n",
    "\n",
    "    # Get click stream features from customers_click_stream_feature_group_name\n",
    "    click_stream_record = featurestore_runtime.get_record(FeatureGroupName=click_stream_feature_group_name,\n",
    "                                                          RecordIdentifierValueAsString=customer_id,\n",
    "                                                          FeatureNames=['sum_activity_weight_last_2m',\n",
    "                                                                  'avg_product_health_index_last_2m'])\n",
    "    print(click_stream_record)\n",
    "    \n",
    "    # Calculate healthy_activity_last_2m as this will influence ranking as well\n",
    "    sum_activity_weight_last_2m = click_stream_record['Record'][0]['ValueAsString']\n",
    "    avg_product_health_index_last_2m = click_stream_record['Record'][1]['ValueAsString']\n",
    "    healthy_activity_last_2m = int(sum_activity_weight_last_2m) * float(avg_product_health_index_last_2m)\n",
    "\n",
    "    data = {'healthy_activity_last_2m': healthy_activity_last_2m,\n",
    "            'product_health_index': product_health_index_list,\n",
    "            'customer_health_index': customer_health_index,\n",
    "            'product_category': product_category_list}\n",
    "    \n",
    "    ranking_inference_df = pd.DataFrame(data)\n",
    "    ranking_inference_df = ranking_inference_df.merge(df_one_hot_cat_features, on='product_category',\n",
    "                                                      how='left')\n",
    "    del ranking_inference_df['product_category']\n",
    "\n",
    "    return ranking_inference_df"
   ]
  },
  {
   "cell_type": "markdown",
   "metadata": {},
   "source": [
    "### Real-time personalized product recommendations"
   ]
  },
  {
   "cell_type": "markdown",
   "metadata": {},
   "source": [
    "Let's finally put everything together by calling the function we created above to get real-time personalized product recommendations using data that's being streamed to SageMaker Feature Store to influence ranking."
   ]
  },
  {
   "cell_type": "markdown",
   "metadata": {},
   "source": [
    "Remember that we already have our unranked recommended products for our collaborative filtering model."
   ]
  },
  {
   "cell_type": "code",
   "execution_count": 52,
   "metadata": {
    "tags": []
   },
   "outputs": [
    {
     "data": {
      "text/html": [
       "<div>\n",
       "<style scoped>\n",
       "    .dataframe tbody tr th:only-of-type {\n",
       "        vertical-align: middle;\n",
       "    }\n",
       "\n",
       "    .dataframe tbody tr th {\n",
       "        vertical-align: top;\n",
       "    }\n",
       "\n",
       "    .dataframe thead th {\n",
       "        text-align: right;\n",
       "    }\n",
       "</style>\n",
       "<table border=\"1\" class=\"dataframe\">\n",
       "  <thead>\n",
       "    <tr style=\"text-align: right;\">\n",
       "      <th></th>\n",
       "      <th>index</th>\n",
       "      <th>customer_id</th>\n",
       "      <th>product_id</th>\n",
       "      <th>state</th>\n",
       "      <th>age</th>\n",
       "      <th>is_married</th>\n",
       "      <th>product_name</th>\n",
       "      <th>predictions</th>\n",
       "    </tr>\n",
       "  </thead>\n",
       "  <tbody>\n",
       "    <tr>\n",
       "      <th>0</th>\n",
       "      <td>6</td>\n",
       "      <td>C3571</td>\n",
       "      <td>P6176</td>\n",
       "      <td>maine</td>\n",
       "      <td>35</td>\n",
       "      <td>0</td>\n",
       "      <td>pretzel \\\"shells\\\"</td>\n",
       "      <td>1.723941</td>\n",
       "    </tr>\n",
       "    <tr>\n",
       "      <th>1</th>\n",
       "      <td>8</td>\n",
       "      <td>C3571</td>\n",
       "      <td>P11086</td>\n",
       "      <td>maine</td>\n",
       "      <td>35</td>\n",
       "      <td>0</td>\n",
       "      <td>almonds mini nut-thins cheddar cheese</td>\n",
       "      <td>1.670082</td>\n",
       "    </tr>\n",
       "    <tr>\n",
       "      <th>2</th>\n",
       "      <td>2</td>\n",
       "      <td>C3571</td>\n",
       "      <td>P16823</td>\n",
       "      <td>maine</td>\n",
       "      <td>35</td>\n",
       "      <td>0</td>\n",
       "      <td>pirouette chocolate fudge creme filled wafers</td>\n",
       "      <td>1.640127</td>\n",
       "    </tr>\n",
       "    <tr>\n",
       "      <th>3</th>\n",
       "      <td>12</td>\n",
       "      <td>C3571</td>\n",
       "      <td>P15430</td>\n",
       "      <td>maine</td>\n",
       "      <td>35</td>\n",
       "      <td>0</td>\n",
       "      <td>organic pork chop seasoning</td>\n",
       "      <td>1.639393</td>\n",
       "    </tr>\n",
       "    <tr>\n",
       "      <th>4</th>\n",
       "      <td>5</td>\n",
       "      <td>C3571</td>\n",
       "      <td>P6247</td>\n",
       "      <td>maine</td>\n",
       "      <td>35</td>\n",
       "      <td>0</td>\n",
       "      <td>fruit punch roarin' waters</td>\n",
       "      <td>1.587156</td>\n",
       "    </tr>\n",
       "    <tr>\n",
       "      <th>5</th>\n",
       "      <td>7</td>\n",
       "      <td>C3571</td>\n",
       "      <td>P14539</td>\n",
       "      <td>maine</td>\n",
       "      <td>35</td>\n",
       "      <td>0</td>\n",
       "      <td>chocolate, organic, unsweetened, 100% cacao</td>\n",
       "      <td>1.505779</td>\n",
       "    </tr>\n",
       "    <tr>\n",
       "      <th>6</th>\n",
       "      <td>1</td>\n",
       "      <td>C3571</td>\n",
       "      <td>P10682</td>\n",
       "      <td>maine</td>\n",
       "      <td>35</td>\n",
       "      <td>0</td>\n",
       "      <td>mini cakes birthday cake</td>\n",
       "      <td>1.501803</td>\n",
       "    </tr>\n",
       "    <tr>\n",
       "      <th>7</th>\n",
       "      <td>4</td>\n",
       "      <td>C3571</td>\n",
       "      <td>P4152</td>\n",
       "      <td>maine</td>\n",
       "      <td>35</td>\n",
       "      <td>0</td>\n",
       "      <td>white cheddar bunnies</td>\n",
       "      <td>1.464058</td>\n",
       "    </tr>\n",
       "    <tr>\n",
       "      <th>8</th>\n",
       "      <td>13</td>\n",
       "      <td>C3571</td>\n",
       "      <td>P7822</td>\n",
       "      <td>maine</td>\n",
       "      <td>35</td>\n",
       "      <td>0</td>\n",
       "      <td>degreaser</td>\n",
       "      <td>1.454165</td>\n",
       "    </tr>\n",
       "    <tr>\n",
       "      <th>9</th>\n",
       "      <td>3</td>\n",
       "      <td>C3571</td>\n",
       "      <td>P5429</td>\n",
       "      <td>maine</td>\n",
       "      <td>35</td>\n",
       "      <td>0</td>\n",
       "      <td>organic sweet potato puree</td>\n",
       "      <td>1.414727</td>\n",
       "    </tr>\n",
       "  </tbody>\n",
       "</table>\n",
       "</div>"
      ],
      "text/plain": [
       "   index customer_id product_id  state age is_married  \\\n",
       "0      6       C3571      P6176  maine  35          0   \n",
       "1      8       C3571     P11086  maine  35          0   \n",
       "2      2       C3571     P16823  maine  35          0   \n",
       "3     12       C3571     P15430  maine  35          0   \n",
       "4      5       C3571      P6247  maine  35          0   \n",
       "5      7       C3571     P14539  maine  35          0   \n",
       "6      1       C3571     P10682  maine  35          0   \n",
       "7      4       C3571      P4152  maine  35          0   \n",
       "8     13       C3571      P7822  maine  35          0   \n",
       "9      3       C3571      P5429  maine  35          0   \n",
       "\n",
       "                                    product_name  predictions  \n",
       "0                             pretzel \\\"shells\\\"     1.723941  \n",
       "1          almonds mini nut-thins cheddar cheese     1.670082  \n",
       "2  pirouette chocolate fudge creme filled wafers     1.640127  \n",
       "3                    organic pork chop seasoning     1.639393  \n",
       "4                     fruit punch roarin' waters     1.587156  \n",
       "5    chocolate, organic, unsweetened, 100% cacao     1.505779  \n",
       "6                       mini cakes birthday cake     1.501803  \n",
       "7                          white cheddar bunnies     1.464058  \n",
       "8                                      degreaser     1.454165  \n",
       "9                     organic sweet potato puree     1.414727  "
      ]
     },
     "execution_count": 52,
     "metadata": {},
     "output_type": "execute_result"
    }
   ],
   "source": [
    "cf_inference_df"
   ]
  },
  {
   "cell_type": "markdown",
   "metadata": {},
   "source": [
    "Now, we need to rank those products recommendations."
   ]
  },
  {
   "cell_type": "code",
   "execution_count": 53,
   "metadata": {
    "tags": []
   },
   "outputs": [
    {
     "name": "stdout",
     "output_type": "stream",
     "text": [
      "{'ResponseMetadata': {'RequestId': 'a8a788d0-13d3-4a21-9e04-5fd505a2cf3a', 'HTTPStatusCode': 200, 'HTTPHeaders': {'x-amzn-requestid': 'a8a788d0-13d3-4a21-9e04-5fd505a2cf3a', 'content-type': 'application/json', 'content-length': '131', 'date': 'Wed, 29 May 2024 00:49:52 GMT'}, 'RetryAttempts': 0}, 'Record': [{'FeatureName': 'customer_health_index', 'ValueAsString': '0.0952770902420399'}]}\n",
      "{'ResponseMetadata': {'RequestId': 'b80bfb05-4a85-46a2-9e3a-97698adfd24d', 'HTTPStatusCode': 200, 'HTTPHeaders': {'x-amzn-requestid': 'b80bfb05-4a85-46a2-9e3a-97698adfd24d', 'content-type': 'application/json', 'content-length': '234', 'date': 'Wed, 29 May 2024 00:49:53 GMT'}, 'RetryAttempts': 0}, 'Record': [{'FeatureName': 'sum_activity_weight_last_2m', 'ValueAsString': '9'}, {'FeatureName': 'avg_product_health_index_last_2m', 'ValueAsString': '0.23333333333333336'}]}\n"
     ]
    }
   ],
   "source": [
    "# Construct input data for the ranking model\n",
    "ranking_inference_df = get_ranking_model_input_data(cf_inference_df, df_one_hot_cat_features)"
   ]
  },
  {
   "cell_type": "code",
   "execution_count": 54,
   "metadata": {
    "tags": []
   },
   "outputs": [],
   "source": [
    "# Get our ranked product recommendations and attach the predictions to the model input\n",
    "# ranking_inference_df['propensity_to_buy'] = ranking_model_predictor.predict(ranking_inference_df.to_numpy()).decode('utf-8').split('\\n')\n",
    "predictions = ranking_model_predictor.predict(ranking_inference_df.to_numpy()).decode('utf-8').split('\\n')\n",
    "predictions = [float(p) for p in predictions if p != '']  # Convert to float and remove empty strings\n",
    "\n",
    "ranking_inference_df['propensity_to_buy'] = predictions\n"
   ]
  },
  {
   "cell_type": "markdown",
   "metadata": {},
   "source": [
    "Now that we have our personalized ranked recommendations, let's see what the top 5 recommended products are."
   ]
  },
  {
   "cell_type": "code",
   "execution_count": 55,
   "metadata": {},
   "outputs": [
    {
     "data": {
      "text/html": [
       "<div>\n",
       "<style scoped>\n",
       "    .dataframe tbody tr th:only-of-type {\n",
       "        vertical-align: middle;\n",
       "    }\n",
       "\n",
       "    .dataframe tbody tr th {\n",
       "        vertical-align: top;\n",
       "    }\n",
       "\n",
       "    .dataframe thead th {\n",
       "        text-align: right;\n",
       "    }\n",
       "</style>\n",
       "<table border=\"1\" class=\"dataframe\">\n",
       "  <thead>\n",
       "    <tr style=\"text-align: right;\">\n",
       "      <th></th>\n",
       "      <th>product_id</th>\n",
       "      <th>product_name</th>\n",
       "      <th>propensity_to_buy</th>\n",
       "    </tr>\n",
       "  </thead>\n",
       "  <tbody>\n",
       "    <tr>\n",
       "      <th>0</th>\n",
       "      <td>P6176</td>\n",
       "      <td>pretzel \\\"shells\\\"</td>\n",
       "      <td>0.999014</td>\n",
       "    </tr>\n",
       "    <tr>\n",
       "      <th>1</th>\n",
       "      <td>P11086</td>\n",
       "      <td>almonds mini nut-thins cheddar cheese</td>\n",
       "      <td>0.999014</td>\n",
       "    </tr>\n",
       "    <tr>\n",
       "      <th>2</th>\n",
       "      <td>P16823</td>\n",
       "      <td>pirouette chocolate fudge creme filled wafers</td>\n",
       "      <td>0.999014</td>\n",
       "    </tr>\n",
       "    <tr>\n",
       "      <th>3</th>\n",
       "      <td>P6247</td>\n",
       "      <td>fruit punch roarin' waters</td>\n",
       "      <td>0.999014</td>\n",
       "    </tr>\n",
       "    <tr>\n",
       "      <th>4</th>\n",
       "      <td>P4152</td>\n",
       "      <td>white cheddar bunnies</td>\n",
       "      <td>0.999014</td>\n",
       "    </tr>\n",
       "    <tr>\n",
       "      <th>5</th>\n",
       "      <td>P10682</td>\n",
       "      <td>mini cakes birthday cake</td>\n",
       "      <td>0.999014</td>\n",
       "    </tr>\n",
       "    <tr>\n",
       "      <th>6</th>\n",
       "      <td>P5429</td>\n",
       "      <td>organic sweet potato puree</td>\n",
       "      <td>0.998438</td>\n",
       "    </tr>\n",
       "    <tr>\n",
       "      <th>7</th>\n",
       "      <td>P14539</td>\n",
       "      <td>chocolate, organic, unsweetened, 100% cacao</td>\n",
       "      <td>0.998438</td>\n",
       "    </tr>\n",
       "    <tr>\n",
       "      <th>8</th>\n",
       "      <td>P15430</td>\n",
       "      <td>organic pork chop seasoning</td>\n",
       "      <td>0.439611</td>\n",
       "    </tr>\n",
       "    <tr>\n",
       "      <th>9</th>\n",
       "      <td>P7822</td>\n",
       "      <td>degreaser</td>\n",
       "      <td>0.439611</td>\n",
       "    </tr>\n",
       "  </tbody>\n",
       "</table>\n",
       "</div>"
      ],
      "text/plain": [
       "  product_id                                   product_name  propensity_to_buy\n",
       "0      P6176                             pretzel \\\"shells\\\"           0.999014\n",
       "1     P11086          almonds mini nut-thins cheddar cheese           0.999014\n",
       "2     P16823  pirouette chocolate fudge creme filled wafers           0.999014\n",
       "3      P6247                     fruit punch roarin' waters           0.999014\n",
       "4      P4152                          white cheddar bunnies           0.999014\n",
       "5     P10682                       mini cakes birthday cake           0.999014\n",
       "6      P5429                     organic sweet potato puree           0.998438\n",
       "7     P14539    chocolate, organic, unsweetened, 100% cacao           0.998438\n",
       "8     P15430                    organic pork chop seasoning           0.439611\n",
       "9      P7822                                      degreaser           0.439611"
      ]
     },
     "execution_count": 55,
     "metadata": {},
     "output_type": "execute_result"
    }
   ],
   "source": [
    "# Join all the data back together for inspection\n",
    "personalized_recommendations = pd.concat([cf_inference_df[['customer_id', 'product_id', 'product_name']],\n",
    "                                          ranking_inference_df[['propensity_to_buy']]], axis=1)\n",
    "\n",
    "# And sort by propensity to buy\n",
    "personalized_recommendations.sort_values(by='propensity_to_buy', ascending=False)[['product_id','product_name', 'propensity_to_buy']].reset_index(drop=True).head(10)"
   ]
  },
  {
   "cell_type": "markdown",
   "metadata": {},
   "source": [
    "<div class=\"alert alert-info\"> 💡 <strong> Personalized recommendations </strong>\n",
    "Note how the ranking changed based on the customer's last 2 minutes of activity on the website.\n",
    "</div>"
   ]
  },
  {
   "cell_type": "markdown",
   "metadata": {},
   "source": [
    "### Congratulations! 🎉"
   ]
  },
  {
   "cell_type": "markdown",
   "metadata": {},
   "source": [
    "You've officially built a recommendation engine system leveraging SageMaker Feature Store as a way to both train the recommendation engine models and influence recommendations in real-time! 🎉 💪"
   ]
  },
  {
   "cell_type": "markdown",
   "metadata": {},
   "source": [
    "### (Optional)\n",
    "\n",
    "Now you've seen real-time recommendations for a customer interacting with unhealthy products, you can repeat this experiment to simulate healthy product interactions by ingesting new data to the stream. If you'd like to do this, follow the below steps:\n",
    "\n",
    "1. Go to notebook 3, navigate to the last section.\n",
    "2. Replace `put_records_in_kinesis_stream(inference_customer_id, 0.1, 0.3)` with `put_records_in_kinesis_stream(inference_customer_id, 0.7, 0.9)`.\n",
    "3. Wait for the data to be ingested to the Kinesis Data Stream.\n",
    "4. Re-run the \"Real-time personalized recommendation\" section in this notebook."
   ]
  },
  {
   "cell_type": "markdown",
   "metadata": {},
   "source": [
    "Go back to Workshop Studio and click on \"Next\"."
   ]
  }
 ],
 "metadata": {
  "availableInstances": [
   {
    "_defaultOrder": 0,
    "_isFastLaunch": true,
    "category": "General purpose",
    "gpuNum": 0,
    "hideHardwareSpecs": false,
    "memoryGiB": 4,
    "name": "ml.t3.medium",
    "vcpuNum": 2
   },
   {
    "_defaultOrder": 1,
    "_isFastLaunch": false,
    "category": "General purpose",
    "gpuNum": 0,
    "hideHardwareSpecs": false,
    "memoryGiB": 8,
    "name": "ml.t3.large",
    "vcpuNum": 2
   },
   {
    "_defaultOrder": 2,
    "_isFastLaunch": false,
    "category": "General purpose",
    "gpuNum": 0,
    "hideHardwareSpecs": false,
    "memoryGiB": 16,
    "name": "ml.t3.xlarge",
    "vcpuNum": 4
   },
   {
    "_defaultOrder": 3,
    "_isFastLaunch": false,
    "category": "General purpose",
    "gpuNum": 0,
    "hideHardwareSpecs": false,
    "memoryGiB": 32,
    "name": "ml.t3.2xlarge",
    "vcpuNum": 8
   },
   {
    "_defaultOrder": 4,
    "_isFastLaunch": true,
    "category": "General purpose",
    "gpuNum": 0,
    "hideHardwareSpecs": false,
    "memoryGiB": 8,
    "name": "ml.m5.large",
    "vcpuNum": 2
   },
   {
    "_defaultOrder": 5,
    "_isFastLaunch": false,
    "category": "General purpose",
    "gpuNum": 0,
    "hideHardwareSpecs": false,
    "memoryGiB": 16,
    "name": "ml.m5.xlarge",
    "vcpuNum": 4
   },
   {
    "_defaultOrder": 6,
    "_isFastLaunch": false,
    "category": "General purpose",
    "gpuNum": 0,
    "hideHardwareSpecs": false,
    "memoryGiB": 32,
    "name": "ml.m5.2xlarge",
    "vcpuNum": 8
   },
   {
    "_defaultOrder": 7,
    "_isFastLaunch": false,
    "category": "General purpose",
    "gpuNum": 0,
    "hideHardwareSpecs": false,
    "memoryGiB": 64,
    "name": "ml.m5.4xlarge",
    "vcpuNum": 16
   },
   {
    "_defaultOrder": 8,
    "_isFastLaunch": false,
    "category": "General purpose",
    "gpuNum": 0,
    "hideHardwareSpecs": false,
    "memoryGiB": 128,
    "name": "ml.m5.8xlarge",
    "vcpuNum": 32
   },
   {
    "_defaultOrder": 9,
    "_isFastLaunch": false,
    "category": "General purpose",
    "gpuNum": 0,
    "hideHardwareSpecs": false,
    "memoryGiB": 192,
    "name": "ml.m5.12xlarge",
    "vcpuNum": 48
   },
   {
    "_defaultOrder": 10,
    "_isFastLaunch": false,
    "category": "General purpose",
    "gpuNum": 0,
    "hideHardwareSpecs": false,
    "memoryGiB": 256,
    "name": "ml.m5.16xlarge",
    "vcpuNum": 64
   },
   {
    "_defaultOrder": 11,
    "_isFastLaunch": false,
    "category": "General purpose",
    "gpuNum": 0,
    "hideHardwareSpecs": false,
    "memoryGiB": 384,
    "name": "ml.m5.24xlarge",
    "vcpuNum": 96
   },
   {
    "_defaultOrder": 12,
    "_isFastLaunch": false,
    "category": "General purpose",
    "gpuNum": 0,
    "hideHardwareSpecs": false,
    "memoryGiB": 8,
    "name": "ml.m5d.large",
    "vcpuNum": 2
   },
   {
    "_defaultOrder": 13,
    "_isFastLaunch": false,
    "category": "General purpose",
    "gpuNum": 0,
    "hideHardwareSpecs": false,
    "memoryGiB": 16,
    "name": "ml.m5d.xlarge",
    "vcpuNum": 4
   },
   {
    "_defaultOrder": 14,
    "_isFastLaunch": false,
    "category": "General purpose",
    "gpuNum": 0,
    "hideHardwareSpecs": false,
    "memoryGiB": 32,
    "name": "ml.m5d.2xlarge",
    "vcpuNum": 8
   },
   {
    "_defaultOrder": 15,
    "_isFastLaunch": false,
    "category": "General purpose",
    "gpuNum": 0,
    "hideHardwareSpecs": false,
    "memoryGiB": 64,
    "name": "ml.m5d.4xlarge",
    "vcpuNum": 16
   },
   {
    "_defaultOrder": 16,
    "_isFastLaunch": false,
    "category": "General purpose",
    "gpuNum": 0,
    "hideHardwareSpecs": false,
    "memoryGiB": 128,
    "name": "ml.m5d.8xlarge",
    "vcpuNum": 32
   },
   {
    "_defaultOrder": 17,
    "_isFastLaunch": false,
    "category": "General purpose",
    "gpuNum": 0,
    "hideHardwareSpecs": false,
    "memoryGiB": 192,
    "name": "ml.m5d.12xlarge",
    "vcpuNum": 48
   },
   {
    "_defaultOrder": 18,
    "_isFastLaunch": false,
    "category": "General purpose",
    "gpuNum": 0,
    "hideHardwareSpecs": false,
    "memoryGiB": 256,
    "name": "ml.m5d.16xlarge",
    "vcpuNum": 64
   },
   {
    "_defaultOrder": 19,
    "_isFastLaunch": false,
    "category": "General purpose",
    "gpuNum": 0,
    "hideHardwareSpecs": false,
    "memoryGiB": 384,
    "name": "ml.m5d.24xlarge",
    "vcpuNum": 96
   },
   {
    "_defaultOrder": 20,
    "_isFastLaunch": false,
    "category": "General purpose",
    "gpuNum": 0,
    "hideHardwareSpecs": true,
    "memoryGiB": 0,
    "name": "ml.geospatial.interactive",
    "supportedImageNames": [
     "sagemaker-geospatial-v1-0"
    ],
    "vcpuNum": 0
   },
   {
    "_defaultOrder": 21,
    "_isFastLaunch": true,
    "category": "Compute optimized",
    "gpuNum": 0,
    "hideHardwareSpecs": false,
    "memoryGiB": 4,
    "name": "ml.c5.large",
    "vcpuNum": 2
   },
   {
    "_defaultOrder": 22,
    "_isFastLaunch": false,
    "category": "Compute optimized",
    "gpuNum": 0,
    "hideHardwareSpecs": false,
    "memoryGiB": 8,
    "name": "ml.c5.xlarge",
    "vcpuNum": 4
   },
   {
    "_defaultOrder": 23,
    "_isFastLaunch": false,
    "category": "Compute optimized",
    "gpuNum": 0,
    "hideHardwareSpecs": false,
    "memoryGiB": 16,
    "name": "ml.c5.2xlarge",
    "vcpuNum": 8
   },
   {
    "_defaultOrder": 24,
    "_isFastLaunch": false,
    "category": "Compute optimized",
    "gpuNum": 0,
    "hideHardwareSpecs": false,
    "memoryGiB": 32,
    "name": "ml.c5.4xlarge",
    "vcpuNum": 16
   },
   {
    "_defaultOrder": 25,
    "_isFastLaunch": false,
    "category": "Compute optimized",
    "gpuNum": 0,
    "hideHardwareSpecs": false,
    "memoryGiB": 72,
    "name": "ml.c5.9xlarge",
    "vcpuNum": 36
   },
   {
    "_defaultOrder": 26,
    "_isFastLaunch": false,
    "category": "Compute optimized",
    "gpuNum": 0,
    "hideHardwareSpecs": false,
    "memoryGiB": 96,
    "name": "ml.c5.12xlarge",
    "vcpuNum": 48
   },
   {
    "_defaultOrder": 27,
    "_isFastLaunch": false,
    "category": "Compute optimized",
    "gpuNum": 0,
    "hideHardwareSpecs": false,
    "memoryGiB": 144,
    "name": "ml.c5.18xlarge",
    "vcpuNum": 72
   },
   {
    "_defaultOrder": 28,
    "_isFastLaunch": false,
    "category": "Compute optimized",
    "gpuNum": 0,
    "hideHardwareSpecs": false,
    "memoryGiB": 192,
    "name": "ml.c5.24xlarge",
    "vcpuNum": 96
   },
   {
    "_defaultOrder": 29,
    "_isFastLaunch": true,
    "category": "Accelerated computing",
    "gpuNum": 1,
    "hideHardwareSpecs": false,
    "memoryGiB": 16,
    "name": "ml.g4dn.xlarge",
    "vcpuNum": 4
   },
   {
    "_defaultOrder": 30,
    "_isFastLaunch": false,
    "category": "Accelerated computing",
    "gpuNum": 1,
    "hideHardwareSpecs": false,
    "memoryGiB": 32,
    "name": "ml.g4dn.2xlarge",
    "vcpuNum": 8
   },
   {
    "_defaultOrder": 31,
    "_isFastLaunch": false,
    "category": "Accelerated computing",
    "gpuNum": 1,
    "hideHardwareSpecs": false,
    "memoryGiB": 64,
    "name": "ml.g4dn.4xlarge",
    "vcpuNum": 16
   },
   {
    "_defaultOrder": 32,
    "_isFastLaunch": false,
    "category": "Accelerated computing",
    "gpuNum": 1,
    "hideHardwareSpecs": false,
    "memoryGiB": 128,
    "name": "ml.g4dn.8xlarge",
    "vcpuNum": 32
   },
   {
    "_defaultOrder": 33,
    "_isFastLaunch": false,
    "category": "Accelerated computing",
    "gpuNum": 4,
    "hideHardwareSpecs": false,
    "memoryGiB": 192,
    "name": "ml.g4dn.12xlarge",
    "vcpuNum": 48
   },
   {
    "_defaultOrder": 34,
    "_isFastLaunch": false,
    "category": "Accelerated computing",
    "gpuNum": 1,
    "hideHardwareSpecs": false,
    "memoryGiB": 256,
    "name": "ml.g4dn.16xlarge",
    "vcpuNum": 64
   },
   {
    "_defaultOrder": 35,
    "_isFastLaunch": false,
    "category": "Accelerated computing",
    "gpuNum": 1,
    "hideHardwareSpecs": false,
    "memoryGiB": 61,
    "name": "ml.p3.2xlarge",
    "vcpuNum": 8
   },
   {
    "_defaultOrder": 36,
    "_isFastLaunch": false,
    "category": "Accelerated computing",
    "gpuNum": 4,
    "hideHardwareSpecs": false,
    "memoryGiB": 244,
    "name": "ml.p3.8xlarge",
    "vcpuNum": 32
   },
   {
    "_defaultOrder": 37,
    "_isFastLaunch": false,
    "category": "Accelerated computing",
    "gpuNum": 8,
    "hideHardwareSpecs": false,
    "memoryGiB": 488,
    "name": "ml.p3.16xlarge",
    "vcpuNum": 64
   },
   {
    "_defaultOrder": 38,
    "_isFastLaunch": false,
    "category": "Accelerated computing",
    "gpuNum": 8,
    "hideHardwareSpecs": false,
    "memoryGiB": 768,
    "name": "ml.p3dn.24xlarge",
    "vcpuNum": 96
   },
   {
    "_defaultOrder": 39,
    "_isFastLaunch": false,
    "category": "Memory Optimized",
    "gpuNum": 0,
    "hideHardwareSpecs": false,
    "memoryGiB": 16,
    "name": "ml.r5.large",
    "vcpuNum": 2
   },
   {
    "_defaultOrder": 40,
    "_isFastLaunch": false,
    "category": "Memory Optimized",
    "gpuNum": 0,
    "hideHardwareSpecs": false,
    "memoryGiB": 32,
    "name": "ml.r5.xlarge",
    "vcpuNum": 4
   },
   {
    "_defaultOrder": 41,
    "_isFastLaunch": false,
    "category": "Memory Optimized",
    "gpuNum": 0,
    "hideHardwareSpecs": false,
    "memoryGiB": 64,
    "name": "ml.r5.2xlarge",
    "vcpuNum": 8
   },
   {
    "_defaultOrder": 42,
    "_isFastLaunch": false,
    "category": "Memory Optimized",
    "gpuNum": 0,
    "hideHardwareSpecs": false,
    "memoryGiB": 128,
    "name": "ml.r5.4xlarge",
    "vcpuNum": 16
   },
   {
    "_defaultOrder": 43,
    "_isFastLaunch": false,
    "category": "Memory Optimized",
    "gpuNum": 0,
    "hideHardwareSpecs": false,
    "memoryGiB": 256,
    "name": "ml.r5.8xlarge",
    "vcpuNum": 32
   },
   {
    "_defaultOrder": 44,
    "_isFastLaunch": false,
    "category": "Memory Optimized",
    "gpuNum": 0,
    "hideHardwareSpecs": false,
    "memoryGiB": 384,
    "name": "ml.r5.12xlarge",
    "vcpuNum": 48
   },
   {
    "_defaultOrder": 45,
    "_isFastLaunch": false,
    "category": "Memory Optimized",
    "gpuNum": 0,
    "hideHardwareSpecs": false,
    "memoryGiB": 512,
    "name": "ml.r5.16xlarge",
    "vcpuNum": 64
   },
   {
    "_defaultOrder": 46,
    "_isFastLaunch": false,
    "category": "Memory Optimized",
    "gpuNum": 0,
    "hideHardwareSpecs": false,
    "memoryGiB": 768,
    "name": "ml.r5.24xlarge",
    "vcpuNum": 96
   },
   {
    "_defaultOrder": 47,
    "_isFastLaunch": false,
    "category": "Accelerated computing",
    "gpuNum": 1,
    "hideHardwareSpecs": false,
    "memoryGiB": 16,
    "name": "ml.g5.xlarge",
    "vcpuNum": 4
   },
   {
    "_defaultOrder": 48,
    "_isFastLaunch": false,
    "category": "Accelerated computing",
    "gpuNum": 1,
    "hideHardwareSpecs": false,
    "memoryGiB": 32,
    "name": "ml.g5.2xlarge",
    "vcpuNum": 8
   },
   {
    "_defaultOrder": 49,
    "_isFastLaunch": false,
    "category": "Accelerated computing",
    "gpuNum": 1,
    "hideHardwareSpecs": false,
    "memoryGiB": 64,
    "name": "ml.g5.4xlarge",
    "vcpuNum": 16
   },
   {
    "_defaultOrder": 50,
    "_isFastLaunch": false,
    "category": "Accelerated computing",
    "gpuNum": 1,
    "hideHardwareSpecs": false,
    "memoryGiB": 128,
    "name": "ml.g5.8xlarge",
    "vcpuNum": 32
   },
   {
    "_defaultOrder": 51,
    "_isFastLaunch": false,
    "category": "Accelerated computing",
    "gpuNum": 1,
    "hideHardwareSpecs": false,
    "memoryGiB": 256,
    "name": "ml.g5.16xlarge",
    "vcpuNum": 64
   },
   {
    "_defaultOrder": 52,
    "_isFastLaunch": false,
    "category": "Accelerated computing",
    "gpuNum": 4,
    "hideHardwareSpecs": false,
    "memoryGiB": 192,
    "name": "ml.g5.12xlarge",
    "vcpuNum": 48
   },
   {
    "_defaultOrder": 53,
    "_isFastLaunch": false,
    "category": "Accelerated computing",
    "gpuNum": 4,
    "hideHardwareSpecs": false,
    "memoryGiB": 384,
    "name": "ml.g5.24xlarge",
    "vcpuNum": 96
   },
   {
    "_defaultOrder": 54,
    "_isFastLaunch": false,
    "category": "Accelerated computing",
    "gpuNum": 8,
    "hideHardwareSpecs": false,
    "memoryGiB": 768,
    "name": "ml.g5.48xlarge",
    "vcpuNum": 192
   },
   {
    "_defaultOrder": 55,
    "_isFastLaunch": false,
    "category": "Accelerated computing",
    "gpuNum": 8,
    "hideHardwareSpecs": false,
    "memoryGiB": 1152,
    "name": "ml.p4d.24xlarge",
    "vcpuNum": 96
   },
   {
    "_defaultOrder": 56,
    "_isFastLaunch": false,
    "category": "Accelerated computing",
    "gpuNum": 8,
    "hideHardwareSpecs": false,
    "memoryGiB": 1152,
    "name": "ml.p4de.24xlarge",
    "vcpuNum": 96
   },
   {
    "_defaultOrder": 57,
    "_isFastLaunch": false,
    "category": "Accelerated computing",
    "gpuNum": 0,
    "hideHardwareSpecs": false,
    "memoryGiB": 32,
    "name": "ml.trn1.2xlarge",
    "vcpuNum": 8
   },
   {
    "_defaultOrder": 58,
    "_isFastLaunch": false,
    "category": "Accelerated computing",
    "gpuNum": 0,
    "hideHardwareSpecs": false,
    "memoryGiB": 512,
    "name": "ml.trn1.32xlarge",
    "vcpuNum": 128
   },
   {
    "_defaultOrder": 59,
    "_isFastLaunch": false,
    "category": "Accelerated computing",
    "gpuNum": 0,
    "hideHardwareSpecs": false,
    "memoryGiB": 512,
    "name": "ml.trn1n.32xlarge",
    "vcpuNum": 128
   }
  ],
  "instance_type": "ml.m5.large",
  "interpreter": {
   "hash": "fea7262dfaa662dc7ea8f1b256cf975fd886d2f868152164ef15877318a1e322"
  },
  "kernelspec": {
   "display_name": "Python 3 (Data Science 3.0)",
   "language": "python",
   "name": "python3__SAGEMAKER_INTERNAL__arn:aws:sagemaker:ap-southeast-2:452832661640:image/sagemaker-data-science-310-v1"
  },
  "language_info": {
   "codemirror_mode": {
    "name": "ipython",
    "version": 3
   },
   "file_extension": ".py",
   "mimetype": "text/x-python",
   "name": "python",
   "nbconvert_exporter": "python",
   "pygments_lexer": "ipython3",
   "version": "3.10.6"
  }
 },
 "nbformat": 4,
 "nbformat_minor": 4
}
